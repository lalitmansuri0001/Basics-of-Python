{
  "cells": [
    {
      "cell_type": "code",
      "execution_count": null,
      "metadata": {
        "id": "XF77amfRn8zq"
      },
      "outputs": [],
      "source": [
        "#Q1\n",
        "#Ans-- python is programming launguage.he is wildly used in indursty\n",
        "\n",
        "#Q2\n",
        "#Ans--In Python, an interpreter is a program that reads and executes Python code directly, line by line, translating it into machine code that the computer can execute. Unlike compiled languages, which are transformed into machine code all at once (in a separate compilation step), an interpreter processes the code as it runs.\n",
        "\n",
        "#Q3\n",
        "#Ans--In Python, predefined keywords (or reserved keywords) are special words that have a predefined meaning and cannot be used as identifiers (like variable names, function names, or class names). These keywords are an essential part of the Python language's syntax, and they define the structure of the language itself.\n",
        "\n",
        "#Q4\n",
        "#Ans--In most programming languages, keywords cannot be used as variable names because they are reserved words with specific syntactic meaning in the language. For example:\n",
        "\n",
        "#Q5\n",
        "#Ans--Mutability in Python refers to the ability of an object to be modified after it has been created. Depending on their type, Python objects are classified as mutable or immutable.\n",
        "\n",
        "#Q6\n",
        "#Ans--The difference in mutability between lists and tuples in Python is primarily by design, based on their intended use cases and the need to optimize for specific scenarios. Here's an explanation:\n",
        "\n",
        "#Q7\n",
        "#Ans--The == and is operators in Python are used for comparison, but they serve very different purposes:\n",
        "\n",
        " #Q8\n",
        " #Ans-- Logical operators in Python are used to combine conditional statements or expressions. They evaluate one or more expressions and return a Boolean value (True or False) based on their logic. Python provides three logical operators:\n",
        " #exmaple----1.NOT    2. AND    3.OR\n",
        "\n",
        " #Q9\n",
        " #Ans-- Type casting in Python refers to converting one data type into another. It is used to ensure that variables or values can operate together correctly or to change their behavior according to the desired type.\n",
        "\n",
        "# Types of Type Casting\n",
        "\n",
        "# 1.Implicit Type Casting\n",
        "# 2.Explicit Type Casting\n",
        "\n",
        "#Q10\n",
        "#Ans--Implicit Type Casting\n",
        "'''Definition: Python automatically converts one data type to another when needed, without any explicit instructions from the programmer.\n",
        "Control: Handled by Python.\n",
        "Purpose: To ensure compatibility and avoid data loss during operations involving multiple data types.\n",
        "Use Case: Typically occurs when performing operations between data types of different sizes or precisions (e.g., int and float).\n",
        "Risk: Minimal risk of error since Python ensures the conversion is safe.'''\n",
        "\n",
        "#Explicit Type Casting\n",
        "'''Definition: The programmer manually converts one data type to another using Python's built-in type conversion functions.\n",
        "Control: Controlled explicitly by the programmer.\n",
        "Purpose: To gain precise control over how data is converted or formatted.\n",
        "Use Case: Used when automatic conversion isn't possible or desired, or when reading input values (which are always strings).\n",
        "Risk: Higher risk of errors (e.g., converting incompatible types like \"abc\" to int will raise a ValueError).'''\n",
        "\n",
        "\n",
        "#Q11\n",
        "#Ans-- The purpose of conditional statements in Python is to allow the program to make decisions and execute specific blocks of code based on whether certain conditions are true or false. This enables the program to exhibit dynamic behavior and handle different scenarios effectively.\n",
        "\n",
        "'''Key Uses of Conditional Statements\n",
        "Decision Making:\n",
        "\n",
        "Execute different blocks of code based on specific conditions.\n",
        "Example: Checking user input or validating data.\n",
        "Control Flow:\n",
        "\n",
        "Determine the logical flow of the program based on conditions.\n",
        "Example: Directing the program to take different paths based on user choices.\n",
        "Dynamic Behavior:\n",
        "\n",
        "Make the program respond differently to different inputs or states.\n",
        "Example: Showing different messages based on age, login credentials, or system states.\n",
        "Types of Conditional Statements in Python\n",
        "Python provides several conditional statements to implement decision-making logic:\n",
        "\n",
        "1. if Statement\n",
        "Executes a block of code if the condition is True.\n",
        "Syntax:\n",
        "python\n",
        "Copy code\n",
        "if condition:\n",
        "    # Code to execute if condition is True\n",
        "Example:\n",
        "python\n",
        "Copy code\n",
        "age = 18\n",
        "if age >= 18:\n",
        "    print(\"You are eligible to vote.\")\n",
        "2. if-else Statement\n",
        "Executes one block of code if the condition is True and another block if it is False.\n",
        "Syntax:\n",
        "python\n",
        "Copy code\n",
        "if condition:\n",
        "    # Code if condition is True\n",
        "else:\n",
        "    # Code if condition is False\n",
        "Example:\n",
        "python\n",
        "Copy code\n",
        "age = 16\n",
        "if age >= 18:\n",
        "    print(\"You are eligible to vote.\")\n",
        "else:\n",
        "    print(\"You are not eligible to vote.\")\n",
        "3. if-elif-else Statement\n",
        "Used for multiple conditions.\n",
        "Executes the first block where the condition is True.\n",
        "Syntax:\n",
        "python\n",
        "Copy code\n",
        "if condition1:\n",
        "    # Code if condition1 is True\n",
        "elif condition2:\n",
        "    # Code if condition2 is True\n",
        "else:\n",
        "    # Code if all conditions are False\n",
        "Example:\n",
        "python\n",
        "Copy code\n",
        "marks = 75\n",
        "if marks >= 90:\n",
        "    print(\"Grade: A\")\n",
        "elif marks >= 75:\n",
        "    print(\"Grade: B\")\n",
        "else:\n",
        "    print(\"Grade: C\")\n",
        "4. Nested if Statements\n",
        "if statements inside another if statement.\n",
        "Useful for complex decision-making.\n",
        "Syntax:\n",
        "python\n",
        "Copy code\n",
        "if condition1:\n",
        "    if condition2:\n",
        "        # Code if both conditions are True\n",
        "Example:\n",
        "python\n",
        "Copy code\n",
        "age = 20\n",
        "citizen = True\n",
        "if age >= 18:\n",
        "    if citizen:\n",
        "        print(\"You are eligible to vote.\")\n",
        "Benefits of Conditional Statements\n",
        "Flexibility: Allows handling multiple scenarios in a program.\n",
        "Efficiency: Ensures only relevant code is executed based on the condition.\n",
        "Clarity: Improves code readability by organizing logic into branches.\n",
        "Conditional statements are essential for writing dynamic and responsive Python programs.'''\n",
        "\n",
        "\n",
        "#Q12\n",
        "#Ans--- The elif statement in Python is short for \"else if\" and is used to check multiple conditions in a sequential manner. It allows for more than two possible paths of execution in a conditional structure.\n",
        "\n",
        "'''How the elif Statement Works:\n",
        "Python evaluates conditions in the order they appear in the if-elif-else structure.\n",
        "When a condition evaluates to True, the corresponding block of code is executed, and the rest of the conditions are ignored.\n",
        "If no if or elif condition is True, the code in the optional else block is executed.'''\n",
        "\n",
        "\n",
        "#Q13\n",
        "#Ans--A \"for\" loop is used when you know exactly how many times you want to repeat a block of code, while a \"while\" loop repeats a block of code as long as a certain condition remains true, meaning the number of iterations might be unknown beforehand; essentially, a \"for\" loop is better for iterating through a known sequence, whereas a \"while\" loop is used for repeating actions until a specific condition is met.\n",
        "'''Key points:\n",
        "For loop:\n",
        "Ideal for iterating through a set number of items in a sequence (like elements in a list).\n",
        "Usually includes initialization, condition check, and increment/decrement steps within the loop structure.\n",
        "While loop:\n",
        "            Used when the number of iterations is not known in advance and depends on a dynamic condition.\n",
        "Checks a condition before each iteration and continues looping as long as the condition remains true'''\n",
        "\n",
        "#Q14\n",
        "#ANS-- In contrast to a 'for' loop, which is generally used when the number of iterations is known beforehand, a 'while' loop is ideal for situations where the number of iterations is not predetermined and depends on some dynamic condition.\n",
        "\n",
        "\n",
        "\n",
        "\n",
        "\n",
        "\n",
        "\n",
        "\n",
        "\n",
        "\n",
        "\n",
        "\n",
        "\n",
        "\n",
        "\n",
        "\n",
        "\n",
        "\n",
        "\n",
        "\n",
        "\n",
        "\n",
        "\n"
      ]
    },
    {
      "cell_type": "markdown",
      "source": [
        "Q1 Write a Python program to print \"Hello, World\""
      ],
      "metadata": {
        "id": "FOK8t8HqR3Oo"
      }
    },
    {
      "cell_type": "code",
      "source": [
        "print(\"Hellow world\")"
      ],
      "metadata": {
        "colab": {
          "base_uri": "https://localhost:8080/"
        },
        "id": "lE3zFWtDR0tO",
        "outputId": "04ea0722-63c9-4627-ece5-9edbd4568fb1"
      },
      "execution_count": null,
      "outputs": [
        {
          "output_type": "stream",
          "name": "stdout",
          "text": [
            "Hellow world\n"
          ]
        }
      ]
    },
    {
      "cell_type": "markdown",
      "source": [
        "Q2..Write a Python program that displays your name and age:"
      ],
      "metadata": {
        "id": "M3JeGxdSSiwu"
      }
    },
    {
      "cell_type": "code",
      "source": [
        "name = \"Lalit\"\n",
        "age = 24\n",
        "print(name)\n",
        "print(age)"
      ],
      "metadata": {
        "colab": {
          "base_uri": "https://localhost:8080/"
        },
        "id": "pDSUp5duTAoe",
        "outputId": "9f59333e-9570-4478-b1dc-a0d4fcfd6c0b"
      },
      "execution_count": null,
      "outputs": [
        {
          "output_type": "stream",
          "name": "stdout",
          "text": [
            "Lalit\n",
            "24\n"
          ]
        }
      ]
    },
    {
      "cell_type": "markdown",
      "source": [
        "Q3...Write code to print all the pre-defined keywords in Python using the keyword library"
      ],
      "metadata": {
        "id": "M340qljGTWSw"
      }
    },
    {
      "cell_type": "code",
      "source": [
        "# prompt: Write code to print all the pre-defined keywords in Python using the keyword library\n",
        "\n",
        "import keyword\n",
        "\n",
        "keyword.kwlist"
      ],
      "metadata": {
        "colab": {
          "base_uri": "https://localhost:8080/"
        },
        "id": "PFdDMkV8Ty5G",
        "outputId": "f9d214d2-736f-4571-ffcc-5f2e40365933"
      },
      "execution_count": null,
      "outputs": [
        {
          "output_type": "execute_result",
          "data": {
            "text/plain": [
              "['False',\n",
              " 'None',\n",
              " 'True',\n",
              " 'and',\n",
              " 'as',\n",
              " 'assert',\n",
              " 'async',\n",
              " 'await',\n",
              " 'break',\n",
              " 'class',\n",
              " 'continue',\n",
              " 'def',\n",
              " 'del',\n",
              " 'elif',\n",
              " 'else',\n",
              " 'except',\n",
              " 'finally',\n",
              " 'for',\n",
              " 'from',\n",
              " 'global',\n",
              " 'if',\n",
              " 'import',\n",
              " 'in',\n",
              " 'is',\n",
              " 'lambda',\n",
              " 'nonlocal',\n",
              " 'not',\n",
              " 'or',\n",
              " 'pass',\n",
              " 'raise',\n",
              " 'return',\n",
              " 'try',\n",
              " 'while',\n",
              " 'with',\n",
              " 'yield']"
            ]
          },
          "metadata": {},
          "execution_count": 3
        }
      ]
    },
    {
      "cell_type": "markdown",
      "source": [
        "Q4.. Write a program that checks if a given word is a Python keyword"
      ],
      "metadata": {
        "id": "63fVDHM6UBFr"
      }
    },
    {
      "cell_type": "code",
      "source": [
        "# prompt: Write a program that checks if a given word is a Python keyword\n",
        "\n",
        "import keyword\n",
        "\n",
        "def is_keyword(word):\n",
        "  \"\"\"\n",
        "  Checks if a given word is a Python keyword.\n",
        "\n",
        "  Args:\n",
        "      word: The word to check.\n",
        "\n",
        "  Returns:\n",
        "      True if the word is a Python keyword, False otherwise.\n",
        "  \"\"\"\n",
        "  return keyword.iskeyword(word)\n",
        "\n",
        "# Example usage\n",
        "word_to_check = \"for\"\n",
        "if is_keyword(word_to_check):\n",
        "    print(f\"'{word_to_check}' is a Python keyword.\")\n",
        "else:\n",
        "    print(f\"'{word_to_check}' is not a Python keyword.\")"
      ],
      "metadata": {
        "colab": {
          "base_uri": "https://localhost:8080/"
        },
        "id": "KCixnIe-ULwA",
        "outputId": "0b6564e3-c60a-4811-ed4a-037a8c8f6452"
      },
      "execution_count": null,
      "outputs": [
        {
          "output_type": "stream",
          "name": "stdout",
          "text": [
            "'for' is a Python keyword.\n"
          ]
        }
      ]
    },
    {
      "cell_type": "markdown",
      "source": [
        "Q5.. Create a list and tuple in Python, and demonstrate how attempting to change an element works differently\n",
        "for each"
      ],
      "metadata": {
        "id": "LpqbzzIEUhTq"
      }
    },
    {
      "cell_type": "code",
      "source": [
        "# prompt: Create a list and tuple in Python, and demonstrate how attempting to change an element works differently\n",
        "# for each\n",
        "\n",
        "# Create a list\n",
        "my_list = [1, 2, 3, 4, 5]\n",
        "\n",
        "# Try to change an element in the list\n",
        "my_list[0] = 10\n",
        "print(\"Modified list:\", my_list)  # Output: Modified list: [10, 2, 3, 4, 5]\n",
        "\n",
        "# Create a tuple\n",
        "my_tuple = (1, 2, 3, 4, 5)\n",
        "\n",
        "# Try to change an element in the tuple (this will raise a TypeError)\n",
        "try:\n",
        "    my_tuple[0] = 10\n",
        "except TypeError as e:\n",
        "    print(\"Error:\", e)  # Output: Error: 'tuple' object does not support item assignment"
      ],
      "metadata": {
        "colab": {
          "base_uri": "https://localhost:8080/"
        },
        "id": "MA6bpbmQUugq",
        "outputId": "ea561685-c9ec-4d3e-df7c-222329f5091c"
      },
      "execution_count": null,
      "outputs": [
        {
          "output_type": "stream",
          "name": "stdout",
          "text": [
            "Modified list: [10, 2, 3, 4, 5]\n",
            "Error: 'tuple' object does not support item assignment\n"
          ]
        }
      ]
    },
    {
      "cell_type": "markdown",
      "source": [
        "Q6...0 Write a function to demonstrate the behavior of mutable and immutable arguments"
      ],
      "metadata": {
        "id": "kKWzd8c_U6NJ"
      }
    },
    {
      "cell_type": "code",
      "source": [
        "# prompt: 0 Write a function to demonstrate the behavior of mutable and immutable arguments\n",
        "\n",
        "def demo_mutable_immutable(arg_list, arg_int):\n",
        "    \"\"\"Demonstrates the behavior of mutable and immutable arguments.\n",
        "\n",
        "    Args:\n",
        "        arg_list: A list (mutable).\n",
        "        arg_int: An integer (immutable).\n",
        "    \"\"\"\n",
        "\n",
        "    arg_list.append(4)  # Modifying the list inside the function\n",
        "    arg_int = arg_int + 1 # Modifying the integer inside the function\n",
        "\n",
        "    print(\"Inside the function:\")\n",
        "    print(\"arg_list:\", arg_list)\n",
        "    print(\"arg_int:\", arg_int)\n",
        "\n",
        "\n",
        "# Example usage\n",
        "my_list = [1, 2, 3]\n",
        "my_int = 10\n",
        "\n",
        "demo_mutable_immutable(my_list, my_int)\n",
        "\n",
        "print(\"\\nOutside the function:\")\n",
        "print(\"my_list:\", my_list)  # The original list is modified\n",
        "print(\"my_int:\", my_int)   # The original integer remains unchanged"
      ],
      "metadata": {
        "colab": {
          "base_uri": "https://localhost:8080/"
        },
        "id": "VKCVUehOVkOo",
        "outputId": "afd2e21b-a25b-4079-b470-41a1c12922a5"
      },
      "execution_count": null,
      "outputs": [
        {
          "output_type": "stream",
          "name": "stdout",
          "text": [
            "Inside the function:\n",
            "arg_list: [1, 2, 3, 4]\n",
            "arg_int: 11\n",
            "\n",
            "Outside the function:\n",
            "my_list: [1, 2, 3, 4]\n",
            "my_int: 10\n"
          ]
        }
      ]
    },
    {
      "cell_type": "markdown",
      "source": [
        "Q8... Write a program to demonstrate the use of logical operators0\n"
      ],
      "metadata": {
        "id": "RZcLq1I7VyjA"
      }
    },
    {
      "cell_type": "code",
      "source": [
        "# prompt: &0 Write a program to demonstrate the use of logical operators0\n",
        "\n",
        "# Examples of logical operators in Python\n",
        "\n",
        "# AND operator\n",
        "x = 10\n",
        "y = 5\n",
        "if x > 5 and y < 10:\n",
        "    print(\"Both conditions are true (AND)\")\n",
        "\n",
        "# OR operator\n",
        "if x > 15 or y < 10:\n",
        "    print(\"At least one condition is true (OR)\")\n",
        "\n",
        "# NOT operator\n",
        "if not x < 5:\n",
        "    print(\"The condition 'x < 5' is not true (NOT)\")\n",
        "\n",
        "# Combined logical operators\n",
        "if (x > 5 and y < 10) or not (x == y):\n",
        "    print(\"Complex condition is true (combined operators)\")"
      ],
      "metadata": {
        "colab": {
          "base_uri": "https://localhost:8080/"
        },
        "id": "9lVg2y07WJvX",
        "outputId": "04dfe2a0-53f7-44bd-995c-281aa540f7e0"
      },
      "execution_count": null,
      "outputs": [
        {
          "output_type": "stream",
          "name": "stdout",
          "text": [
            "Both conditions are true (AND)\n",
            "At least one condition is true (OR)\n",
            "The condition 'x < 5' is not true (NOT)\n",
            "Complex condition is true (combined operators)\n"
          ]
        }
      ]
    },
    {
      "cell_type": "markdown",
      "source": [
        "Q9..  Write a Python program to convert user input from string to integer, float, and boolean types0\n"
      ],
      "metadata": {
        "id": "5brhEBCVWWC_"
      }
    },
    {
      "cell_type": "code",
      "source": [
        "# prompt: \u00100 Write a Python program to convert user input from string to integer, float, and boolean types0\n",
        "\n",
        "# Get user input as a string\n",
        "user_input = input(\"Enter a value: \")\n",
        "\n",
        "try:\n",
        "    # Convert to integer\n",
        "    int_value = int(user_input)\n",
        "    print(\"Integer:\", int_value)\n",
        "except ValueError:\n",
        "    print(\"Invalid input for integer conversion.\")\n",
        "\n",
        "try:\n",
        "    # Convert to float\n",
        "    float_value = float(user_input)\n",
        "    print(\"Float:\", float_value)\n",
        "except ValueError:\n",
        "    print(\"Invalid input for float conversion.\")\n",
        "\n",
        "try:\n",
        "    # Convert to boolean (using truthiness)\n",
        "    bool_value = bool(user_input)  # Empty strings are False; others are True\n",
        "    print(\"Boolean:\", bool_value)\n",
        "except ValueError:\n",
        "    print(\"Invalid input for boolean conversion.\")"
      ],
      "metadata": {
        "id": "xDYacuuZWdXw"
      },
      "execution_count": null,
      "outputs": []
    },
    {
      "cell_type": "markdown",
      "source": [
        "Q10...  Write code to demonstrate type casting with list elements0\n"
      ],
      "metadata": {
        "id": "PQ2q69Y2WsGq"
      }
    },
    {
      "cell_type": "code",
      "source": [
        "# prompt: 2\u000f0 Write code to demonstrate type casting with list elements0\n",
        "\n",
        "# Create a list with elements of different data types\n",
        "my_list = [10, \"20\", 30.5, \"40.7\", True, False]\n",
        "\n",
        "# Type casting elements\n",
        "int_list = []\n",
        "for item in my_list:\n",
        "    try:\n",
        "        int_list.append(int(item))\n",
        "    except ValueError:\n",
        "        try:\n",
        "            int_list.append(int(float(item))) #handle float strings\n",
        "        except ValueError:\n",
        "            int_list.append(int(item == True)) #handle boolean\n",
        "\n",
        "\n",
        "print(\"Original List:\", my_list)\n",
        "print(\"Integer List:\", int_list)\n",
        "\n",
        "float_list = []\n",
        "for item in my_list:\n",
        "    try:\n",
        "      float_list.append(float(item))\n",
        "    except ValueError:\n",
        "      if item == True:\n",
        "        float_list.append(1.0)\n",
        "      elif item == False:\n",
        "        float_list.append(0.0)\n",
        "      else:\n",
        "        float_list.append(float(item))\n",
        "\n",
        "\n",
        "print(\"\\nOriginal List:\", my_list)\n",
        "print(\"Float List:\", float_list)\n",
        "\n",
        "\n",
        "str_list = [str(item) for item in my_list]\n",
        "\n",
        "print(\"\\nOriginal List:\", my_list)\n",
        "print(\"String List:\", str_list)"
      ],
      "metadata": {
        "id": "RDTR-PEFW3_e"
      },
      "execution_count": null,
      "outputs": []
    },
    {
      "cell_type": "markdown",
      "source": [
        "Q11...  Write a program that checks if a number is positive, negative, or zero0\n"
      ],
      "metadata": {
        "id": "YNq1HyJRXObP"
      }
    },
    {
      "cell_type": "code",
      "source": [
        "# prompt:  Write a program that checks if a number is positive, negative, or zero\n",
        "\n",
        "def check_number(number):\n",
        "    if number > 0:\n",
        "        return \"Positive\"\n",
        "    elif number < 0:\n",
        "        return \"Negative\"\n",
        "    else:\n",
        "        return \"Zero\"\n",
        "\n",
        "# Example usage\n",
        "number = 10\n",
        "result = check_number(number)\n",
        "print(f\"The number {number} is {result}.\")\n",
        "\n",
        "number = -5\n",
        "result = check_number(number)\n",
        "print(f\"The number {number} is {result}.\")\n",
        "\n",
        "number = 0\n",
        "result = check_number(number)\n",
        "print(f\"The number {number} is {result}.\")"
      ],
      "metadata": {
        "id": "kjF3FApzXUjL"
      },
      "execution_count": null,
      "outputs": []
    },
    {
      "cell_type": "markdown",
      "source": [
        "Q12..  Write a for loop to print numbers from 1 to 100\n"
      ],
      "metadata": {
        "id": "IOXyahprXgqX"
      }
    },
    {
      "cell_type": "code",
      "source": [
        "# prompt: Write a for loop to print numbers from 1 to 100\n",
        "\n",
        "for i in range(1, 101):\n",
        "i"
      ],
      "metadata": {
        "id": "IgCj6X5RXwMC"
      },
      "execution_count": null,
      "outputs": []
    },
    {
      "cell_type": "markdown",
      "source": [
        "Q13.. Write a Python program to find the sum of all even numbers between 1 and 500\n"
      ],
      "metadata": {
        "id": "alo1yzu1Y6GB"
      }
    },
    {
      "cell_type": "code",
      "source": [
        "# prompt: 2\u00170 Write a Python program to find the sum of all even numbers between 1 and 500\n",
        "\n",
        "# Initialize the sum\n",
        "sum_of_evens = 0\n",
        "\n",
        "# Iterate through even numbers from 2 to 500 (inclusive)\n",
        "for i in range(2, 501, 2):\n",
        "  sum_of_evens += i\n",
        "\n",
        "# Print the sum\n",
        "print(\"Sum of even numbers between 1 and 500:\", sum_of_evens)"
      ],
      "metadata": {
        "id": "LI_5foq1ZKO1"
      },
      "execution_count": null,
      "outputs": []
    },
    {
      "cell_type": "markdown",
      "source": [
        "Q14..  Write a program to reverse a string using a while loop0\n"
      ],
      "metadata": {
        "id": "WF9gELbIZOBC"
      }
    },
    {
      "cell_type": "code",
      "source": [
        "# prompt: Write a program to reverse a string using a while loop0\n",
        "\n",
        "def reverse_string_while(input_string):\n",
        "    reversed_string = \"\"\n",
        "    index = len(input_string) - 1\n",
        "    while index >= 0:\n",
        "        reversed_string += input_string[index]\n",
        "        index -= 1\n",
        "    return reversed_string\n",
        "\n",
        "# Example usage\n",
        "string_to_reverse = \"hello\"\n",
        "reversed_string = reverse_string_while(string_to_reverse)\n",
        "print(f\"Reversed string: {reversed_string}\")"
      ],
      "metadata": {
        "id": "OqaTgQkWZZMh"
      },
      "execution_count": null,
      "outputs": []
    },
    {
      "cell_type": "markdown",
      "source": [
        "Q15..  Write a Python program to calculate the factorial of a number provided by the user using a while loop."
      ],
      "metadata": {
        "id": "PApG8SGUZnJ0"
      }
    },
    {
      "cell_type": "code",
      "source": [
        "# prompt:  Write a Python program to calculate the factorial of a number provided by the user using a while loop.\n",
        "\n",
        "def factorial_while(n):\n",
        "    if n < 0:\n",
        "        return \"Factorial is not defined for negative numbers\"\n",
        "    elif n == 0:\n",
        "        return 1\n",
        "    else:\n",
        "        fact = 1\n",
        "        i = 1\n",
        "        while i <= n:\n",
        "            fact *= i\n",
        "            i += 1\n",
        "        return fact\n",
        "\n",
        "# Get input from the user\n",
        "num = int(input(\"Enter a non-negative integer: \"))\n",
        "\n",
        "# Calculate and print the factorial\n",
        "result = factorial_while(num)\n",
        "print(f\"The factorial of {num} is {result}\")"
      ],
      "metadata": {
        "id": "4st2KAxoZyW7"
      },
      "execution_count": null,
      "outputs": []
    }
  ],
  "metadata": {
    "colab": {
      "provenance": [],
      "toc_visible": true
    },
    "kernelspec": {
      "display_name": "Python 3",
      "name": "python3"
    },
    "language_info": {
      "name": "python"
    }
  },
  "nbformat": 4,
  "nbformat_minor": 0
}